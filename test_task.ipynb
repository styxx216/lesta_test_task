{
  "nbformat": 4,
  "nbformat_minor": 0,
  "metadata": {
    "colab": {
      "name": "test_task.ipynb",
      "provenance": [],
      "collapsed_sections": [],
      "authorship_tag": "ABX9TyOQne2aY/tq9lf5JqPFkaAf",
      "include_colab_link": true
    },
    "kernelspec": {
      "name": "python3",
      "display_name": "Python 3"
    },
    "language_info": {
      "name": "python"
    }
  },
  "cells": [
    {
      "cell_type": "markdown",
      "metadata": {
        "id": "view-in-github",
        "colab_type": "text"
      },
      "source": [
        "<a href=\"https://colab.research.google.com/github/styxx216/lesta_test_task/blob/main/test_task.ipynb\" target=\"_parent\"><img src=\"https://colab.research.google.com/assets/colab-badge.svg\" alt=\"Open In Colab\"/></a>"
      ]
    },
    {
      "cell_type": "code",
      "execution_count": null,
      "metadata": {
        "id": "VzpXvQ9DTbIf"
      },
      "outputs": [],
      "source": [
        "def isEven(value):\n",
        "    return value%2==0\n",
        "\n",
        "def isEven2(n):\n",
        "    return not n & 1\n"
      ]
    },
    {
      "cell_type": "markdown",
      "source": [
        "\n",
        "Второе решение использует операцию побитового И. "
      ],
      "metadata": {
        "id": "ffnm34oh3NBX"
      }
    },
    {
      "cell_type": "code",
      "source": [
        "class FIFO_1:\n",
        "    def __init__(self, l):\n",
        "        self._max_size = l\n",
        "        self._size = 0\n",
        "        self._buffer = [None] * l\n",
        "        self._start = 0\n",
        "        self._end = -1\n",
        "    def append_element(self,value):\n",
        "        if self._size==0:\n",
        "            self._buffer[self._start]=value\n",
        "            self._end=self._start\n",
        "            self._size+=1\n",
        "        else:\n",
        "            self._buffer[(self._end+1)%self._max_size]=value\n",
        "            self._end=(self._end+1)%self._max_size\n",
        "            if self._end==self._start:\n",
        "                self._start = (self._start+1)%self._max_size\n",
        "            else:\n",
        "                self._size+=1\n",
        "  \n",
        "    def delete_element(self):\n",
        "        if self._max_size>0:\n",
        "            res = self._buffer[self._start]\n",
        "            self._start = (self._start+1)%self._max_size\n",
        "            self._size -= 1\n",
        "            return res\n",
        "        else:\n",
        "            raise Exception('Buffer is empty')\n",
        "\n",
        "\n",
        "\n",
        "class LinkedList:\n",
        "    def __init__(self, value = None, next = None):\n",
        "        self._value = value\n",
        "        self._next = next\n",
        "    def get_next(self):\n",
        "        return self._next\n",
        "    def get_value(self):\n",
        "        return self._value\n",
        "    def set_value(self, value):\n",
        "        self._value = value\n",
        "    def set_next(self, next):\n",
        "        self._next = next\n",
        "\n",
        "class FIFO_2:\n",
        "    def __init__(self,l):\n",
        "        self._max_len = l\n",
        "        self._len = 0\n",
        "        temp = LinkedList()\n",
        "        first = temp\n",
        "        for i in range(self._max_len-1):\n",
        "            temp = LinkedList(next = temp)\n",
        "        first.set_next(temp)\n",
        "        self._start = first\n",
        "        self._end = first\n",
        "    def append_element(self,value):\n",
        "        self._end.set_value(value)\n",
        "        self._end = self._end.get_next()\n",
        "        if self._len<self._max_len:\n",
        "            self._len+=1\n",
        "        else:\n",
        "            self._start = self._start.get_next()\n",
        "    def delete_element(self):\n",
        "        if self._len>0:\n",
        "            res = self._start.get_value()\n",
        "            self._start = self._start.get_next()\n",
        "            self._len-=1\n",
        "            return res\n",
        "        else:\n",
        "            raise Exception('Buffer is empty')\n"
      ],
      "metadata": {
        "id": "BI6Q8yuWUa1Y"
      },
      "execution_count": 9,
      "outputs": []
    },
    {
      "cell_type": "markdown",
      "source": [
        "Первое решение использует list, второе - связанные списки, вставка и удаление элементов в обоих случаях занимает O(1). Реализация через list-ы использует дополнительную память для указателей"
      ],
      "metadata": {
        "id": "KpibJ0CH3H0X"
      }
    },
    {
      "cell_type": "code",
      "source": [
        "def sort(A,low = 0, high = False):\n",
        "    if high is False:\n",
        "        high = len(A)\n",
        "    if low < high:\n",
        "        p = A[high-1] #индекс опорного элемента\n",
        "        i = low\n",
        "        for j in range(low,high-1):\n",
        "            if A[j]<=p:\n",
        "                A[i],A[j] = A[j],A[i]\n",
        "                i+=1\n",
        "        A[i],A[high-1]=A[high-1],A[i]\n",
        "        sort(A,low,i)\n",
        "        sort(A,i+1,high)\n"
      ],
      "metadata": {
        "id": "craAP3IIkXpQ"
      },
      "execution_count": null,
      "outputs": []
    },
    {
      "cell_type": "markdown",
      "source": [
        "Выше приведен алгоритм быстрой сортировки\n",
        "Сложность алгоритма - O(n*log(n))в лучшем и среднем случае и O(n^2) в худшем случае. В данном алгоритме \"худший случай\" - уде отсортированный массив. \n",
        "Хотя существуют вариации алгоритма быстрой сортировки и другие алгоритмы со схожей скоростью, ни один из них не выдает лучший результат на любом массиве\n",
        "Таким образом, выбор подходящего алгоритма сортировки зависит от изначального массива"
      ],
      "metadata": {
        "id": "zJeGJS3B2-Je"
      }
    }
  ]
}